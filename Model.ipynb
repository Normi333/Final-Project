{
  "nbformat": 4,
  "nbformat_minor": 0,
  "metadata": {
    "colab": {
      "provenance": [],
      "authorship_tag": "ABX9TyOCY7jvRclGSK1Co96wJ37b",
      "include_colab_link": true
    },
    "kernelspec": {
      "name": "python3",
      "display_name": "Python 3"
    },
    "language_info": {
      "name": "python"
    }
  },
  "cells": [
    {
      "cell_type": "markdown",
      "metadata": {
        "id": "view-in-github",
        "colab_type": "text"
      },
      "source": [
        "<a href=\"https://colab.research.google.com/github/Normi333/Final-Project/blob/main/Model.ipynb\" target=\"_parent\"><img src=\"https://colab.research.google.com/assets/colab-badge.svg\" alt=\"Open In Colab\"/></a>"
      ]
    },
    {
      "cell_type": "code",
      "execution_count": null,
      "metadata": {
        "id": "M5qqe6lUP8BU"
      },
      "outputs": [],
      "source": [
        "import torch\n",
        "import torch.nn as nn\n",
        "import torch.optim as optim\n",
        "from torch.utils.data import DataLoader, Dataset\n",
        "from torchvision import transforms\n",
        "from torchvision.datasets import ImageFolder\n",
        "import torchvision.utils as vutils\n",
        "import matplotlib.pyplot as plt\n"
      ]
    },
    {
      "cell_type": "code",
      "source": [
        "class GeneratorUNet(nn.Module):\n",
        "    def __init__(self, in_channels=3, out_channels=3):\n",
        "        super(GeneratorUNet, self).__init__()\n",
        "\n",
        "        def down_block(in_feat, out_feat, normalize=True):\n",
        "            layers = [nn.Conv2d(in_feat, out_feat, kernel_size=4, stride=2, padding=1, bias=False)]\n",
        "            if normalize:\n",
        "                layers.append(nn.BatchNorm2d(out_feat))\n",
        "            layers.append(nn.LeakyReLU(0.2))\n",
        "            return nn.Sequential(*layers)\n",
        "\n",
        "        def up_block(in_feat, out_feat, dropout=0.0):\n",
        "            layers = [\n",
        "                nn.ConvTranspose2d(in_feat, out_feat, kernel_size=4, stride=2, padding=1, bias=False),\n",
        "                nn.BatchNorm2d(out_feat),\n",
        "                nn.ReLU(inplace=True)\n",
        "            ]\n",
        "            if dropout:\n",
        "                layers.append(nn.Dropout(dropout))\n",
        "            return nn.Sequential(*layers)\n",
        "\n",
        "        # Downsampling layers\n",
        "        self.down1 = down_block(in_channels, 64, normalize=False)\n",
        "        self.down2 = down_block(64, 128)\n",
        "        self.down3 = down_block(128, 256)\n",
        "        self.down4 = down_block(256, 512)\n",
        "        self.down5 = down_block(512, 512)\n",
        "        self.down6 = down_block(512, 512)\n",
        "        self.down7 = down_block(512, 512)\n",
        "        self.down8 = down_block(512, 512, normalize=False)\n",
        "\n",
        "        # Upsampling layers\n",
        "        self.up1 = up_block(512, 512, dropout=0.5)\n",
        "        self.up2 = up_block(1024, 512, dropout=0.5)\n",
        "        self.up3 = up_block(1024, 512, dropout=0.5)\n",
        "        self.up4 = up_block(1024, 512)\n",
        "        self.up5 = up_block(1024, 256)\n",
        "        self.up6 = up_block(512, 128)\n",
        "        self.up7 = up_block(256, 64)\n",
        "        self.up8 = nn.Sequential(\n",
        "            nn.ConvTranspose2d(128, out_channels, kernel_size=4, stride=2, padding=1),\n",
        "            nn.Tanh()\n",
        "        )\n",
        "\n",
        "    def forward(self, x):\n",
        "        d1 = self.down1(x)\n",
        "        d2 = self.down2(d1)\n",
        "        d3 = self.down3(d2)\n",
        "        d4 = self.down4(d3)\n",
        "        d5 = self.down5(d4)\n",
        "        d6 = self.down6(d5)\n",
        "        d7 = self.down7(d6)\n",
        "        d8 = self.down8(d7)\n",
        "\n",
        "        u1 = self.up1(d8)\n",
        "        u2 = self.up2(torch.cat([u1, d7], 1))\n",
        "        u3 = self.up3(torch.cat([u2, d6], 1))\n",
        "        u4 = self.up4(torch.cat([u3, d5], 1))\n",
        "        u5 = self.up5(torch.cat([u4, d4], 1))\n",
        "        u6 = self.up6(torch.cat([u5, d3], 1))\n",
        "        u7 = self.up7(torch.cat([u6, d2], 1))\n",
        "        u8 = self.up8(torch.cat([u7, d1], 1))\n",
        "        return u8\n"
      ],
      "metadata": {
        "id": "7xbGRJ9dQCwd"
      },
      "execution_count": null,
      "outputs": []
    },
    {
      "cell_type": "code",
      "source": [
        "class Discriminator(nn.Module):\n",
        "    def __init__(self, in_channels=6):\n",
        "        super(Discriminator, self).__init__()\n",
        "\n",
        "        def disc_block(in_feat, out_feat, normalize=True):\n",
        "            layers = [nn.Conv2d(in_feat, out_feat, kernel_size=4, stride=2, padding=1)]\n",
        "            if normalize:\n",
        "                layers.append(nn.BatchNorm2d(out_feat))\n",
        "            layers.append(nn.LeakyReLU(0.2, inplace=True))\n",
        "            return nn.Sequential(*layers)\n",
        "\n",
        "        self.model = nn.Sequential(\n",
        "            disc_block(in_channels, 64, normalize=False),\n",
        "            disc_block(64, 128),\n",
        "            disc_block(128, 256),\n",
        "            disc_block(256, 512),\n",
        "            nn.Conv2d(512, 1, kernel_size=4, stride=1, padding=1)\n",
        "        )\n",
        "\n",
        "    def forward(self, img_A, img_B):\n",
        "        x = torch.cat([img_A, img_B], 1)\n",
        "        return self.model(x)\n"
      ],
      "metadata": {
        "id": "w8B3QNjiQHCv"
      },
      "execution_count": null,
      "outputs": []
    },
    {
      "cell_type": "code",
      "source": [
        "criterion_GAN = nn.BCEWithLogitsLoss()\n",
        "criterion_pixelwise = nn.L1Loss()\n",
        "\n",
        "lambda_pixel = 100  # Weight for pixel-wise loss\n",
        "device = \"cuda\" if torch.cuda.is_available() else \"cpu\"\n"
      ],
      "metadata": {
        "id": "vZ8weBABQJQD"
      },
      "execution_count": null,
      "outputs": []
    },
    {
      "cell_type": "code",
      "source": [],
      "metadata": {
        "id": "z7PeqwWnQLgP"
      },
      "execution_count": null,
      "outputs": []
    }
  ]
}